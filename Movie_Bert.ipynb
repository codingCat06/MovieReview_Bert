{
 "cells": [
  {
   "cell_type": "code",
   "execution_count": 3,
   "id": "2005676b",
   "metadata": {},
   "outputs": [
    {
     "name": "stdout",
     "output_type": "stream",
     "text": [
      "패키지 설치가 필요한 경우 위의 주석을 해제하고 실행하세요.\n"
     ]
    }
   ],
   "source": [
    "# 필요한 패키지 설치 (첫 실행시에만)\n",
    "# !pip install huggingface_hub[hf_xet] --upgrade\n",
    "# !pip install torch>=2.6.0 --upgrade  # PyTorch 업그레이드 (필요시)\n",
    "# !pip install transformers --upgrade\n",
    "\n",
    "print(\"패키지 설치가 필요한 경우 위의 주석을 해제하고 실행하세요.\")"
   ]
  },
  {
   "cell_type": "code",
   "execution_count": 4,
   "id": "bc76ffd7",
   "metadata": {},
   "outputs": [],
   "source": [
    "import numpy as np\n",
    "import pandas as pd\n",
    "from transformers import ElectraTokenizer, ElectraModel\n",
    "import warnings\n",
    "warnings.filterwarnings('ignore')\n",
    " \n",
    "# 토크나이저 불러오기 - ELECTRA 모델에 맞는 토크나이저 사용\n",
    "tokenizer = ElectraTokenizer.from_pretrained(\"monologg/koelectra-base-v3-discriminator\")\n",
    " \n",
    "# 모델 불러오기 - ELECTRA 모델 사용, safetensors 사용으로 보안 이슈 해결\n",
    "model = ElectraModel.from_pretrained(\n",
    "    \"monologg/koelectra-base-v3-discriminator\", \n",
    "    output_hidden_states=True,\n",
    "    use_safetensors=True  # PyTorch 버전 이슈 해결\n",
    ")"
   ]
  },
  {
   "cell_type": "code",
   "execution_count": null,
   "id": "3adaacbe",
   "metadata": {},
   "outputs": [],
   "source": [
    "# 모델 사용 예제\n",
    "def get_embeddings(text):\n",
    "    \"\"\"\n",
    "    텍스트에 대한 ELECTRA 임베딩을 추출하는 함수\n",
    "    \"\"\"\n",
    "    # 토크나이징\n",
    "    inputs = tokenizer(text, return_tensors=\"pt\", truncation=True, padding=True, max_length=512)\n",
    "    \n",
    "    # 모델 추론\n",
    "    with torch.no_grad():\n",
    "        outputs = model(**inputs)\n",
    "    \n",
    "    # [CLS] 토큰의 임베딩 사용 (문장 전체 표현)\n",
    "    embeddings = outputs.last_hidden_state[:, 0, :].numpy()\n",
    "    \n",
    "    return embeddings\n",
    "\n",
    "# 사용 예제\n",
    "sample_text = \"이 영화는 정말 재미있었다.\"\n",
    "print(f\"입력 텍스트: {sample_text}\")\n",
    "print(\"모델이 성공적으로 로드되었습니다!\")\n",
    "\n",
    "# 임베딩 추출 (torch import 필요)\n",
    "import torch\n",
    "embeddings = get_embeddings(sample_text)\n",
    "print(f\"임베딩 차원: {embeddings.shape}\")\n",
    "print(f\"임베딩 예시 (처음 5개 값): {embeddings[0][:5]}\")"
   ]
  }
 ],
 "metadata": {
  "kernelspec": {
   "display_name": "torch_env",
   "language": "python",
   "name": "python3"
  },
  "language_info": {
   "codemirror_mode": {
    "name": "ipython",
    "version": 3
   },
   "file_extension": ".py",
   "mimetype": "text/x-python",
   "name": "python",
   "nbconvert_exporter": "python",
   "pygments_lexer": "ipython3",
   "version": "3.9.23"
  }
 },
 "nbformat": 4,
 "nbformat_minor": 5
}
